{
 "cells": [
  {
   "cell_type": "code",
   "execution_count": 7,
   "metadata": {},
   "outputs": [
    {
     "name": "stderr",
     "output_type": "stream",
     "text": [
      "\u001b[32m2024-10-21 21:05:17.917\u001b[0m | \u001b[33m\u001b[1mWARNING \u001b[0m | \u001b[36mtwscrape.accounts_pool\u001b[0m:\u001b[36madd_account\u001b[0m:\u001b[36m88\u001b[0m - \u001b[33m\u001b[1mAccount buthuai already exists\u001b[0m\n",
      "\u001b[32m2024-10-21 21:05:18.311\u001b[0m | \u001b[33m\u001b[1mWARNING \u001b[0m | \u001b[36mtwscrape.queue_client\u001b[0m:\u001b[36m_check_rep\u001b[0m:\u001b[36m191\u001b[0m - \u001b[33m\u001b[1mAPI unknown error: 200 - 47/50 - buthuai - (214) BadRequest: Unknown request cursor: 100\u001b[0m\n"
     ]
    },
    {
     "name": "stdout",
     "output_type": "stream",
     "text": [
      "[]\n"
     ]
    }
   ],
   "source": [
    "import asyncio\n",
    "import os\n",
    "import json\n",
    "\n",
    "from dotenv import load_dotenv\n",
    "from twscrape import API, gather\n",
    "from twscrape.logger import set_log_level\n",
    "\n",
    "load_dotenv()\n",
    "\n",
    "TWITTER_USERNAME=os.environ.get(\"TWITTER_USERNAME\")\n",
    "TWITTER_EMAIL=os.environ.get(\"TWITTER_EMAIL\")\n",
    "TWITTER_PASSWORD=os.environ.get(\"TWITTER_PASSWORD\")\n",
    "\n",
    "COOKIES_PATH=\"cookies.json\"\n",
    "\n",
    "with open(COOKIES_PATH, \"r\") as f:\n",
    "    cookies = json.load(f)\n",
    "    cookies = json.dumps(cookies)\n",
    "\n",
    "async def main():\n",
    "    api = API()  # or API(\"path-to.db\") - default is `accounts.db`\n",
    "\n",
    "    # ADD ACCOUNTS (for CLI usage see BELOW)\n",
    "    await api.pool.add_account(TWITTER_USERNAME, TWITTER_PASSWORD, TWITTER_EMAIL, TWITTER_PASSWORD, cookies=cookies)\n",
    "    await api.pool.login_all()\n",
    "\n",
    "    # or add account with COOKIES (with cookies login not required)\n",
    "    # cookies = \"abc=12; ct0=xyz\"  # or '{\"abc\": \"12\", \"ct0\": \"xyz\"}'\n",
    "    # await api.pool.add_account(\"user3\", \"pass3\", \"u3@mail.com\", \"mail_pass3\", cookies=cookies)\n",
    "\n",
    "    # API USAGE\n",
    "\n",
    "    # search (latest tab)\n",
    "    tweets = await gather(api.search(\"elon musk\", limit=20, kv={\n",
    "        \"cursor\":\"100\",\n",
    "        }))  # list[Tweet]\n",
    "    print(tweets)\n",
    "\n",
    "await main()"
   ]
  },
  {
   "cell_type": "code",
   "execution_count": null,
   "metadata": {},
   "outputs": [],
   "source": []
  }
 ],
 "metadata": {
  "kernelspec": {
   "display_name": "venv",
   "language": "python",
   "name": "python3"
  },
  "language_info": {
   "codemirror_mode": {
    "name": "ipython",
    "version": 3
   },
   "file_extension": ".py",
   "mimetype": "text/x-python",
   "name": "python",
   "nbconvert_exporter": "python",
   "pygments_lexer": "ipython3",
   "version": "3.10.11"
  }
 },
 "nbformat": 4,
 "nbformat_minor": 2
}
