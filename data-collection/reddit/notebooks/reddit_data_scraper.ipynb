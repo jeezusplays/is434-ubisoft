{
 "cells": [
  {
   "cell_type": "markdown",
   "metadata": {},
   "source": [
    "# Part 1: Data Collection (Ubisoft - External)\n",
    "- Collecting data that mentions Ubisoft across the various subreddits we are trying to surf from\n",
    "- Adding prerequisites for the data being collected\n",
    "    - Post must be more 20 words \n",
    "    - Account must be more than 1 week old\n",
    "    - Account must have more than 10 karma\n",
    "    - Posts will be collected from the past 1 year\n"
   ]
  },
  {
   "cell_type": "markdown",
   "metadata": {},
   "source": [
    "## (1) Import necessary libraries"
   ]
  },
  {
   "cell_type": "code",
   "execution_count": 1,
   "metadata": {},
   "outputs": [
    {
     "name": "stdout",
     "output_type": "stream",
     "text": [
      "Requirement already satisfied: praw in /opt/anaconda3/lib/python3.11/site-packages (7.7.1)\n",
      "Requirement already satisfied: prawcore<3,>=2.1 in /opt/anaconda3/lib/python3.11/site-packages (from praw) (2.4.0)\n",
      "Requirement already satisfied: update-checker>=0.18 in /opt/anaconda3/lib/python3.11/site-packages (from praw) (0.18.0)\n",
      "Requirement already satisfied: websocket-client>=0.54.0 in /opt/anaconda3/lib/python3.11/site-packages (from praw) (0.58.0)\n",
      "Requirement already satisfied: requests<3.0,>=2.6.0 in /opt/anaconda3/lib/python3.11/site-packages (from prawcore<3,>=2.1->praw) (2.32.3)\n",
      "Requirement already satisfied: six in /opt/anaconda3/lib/python3.11/site-packages (from websocket-client>=0.54.0->praw) (1.16.0)\n",
      "Requirement already satisfied: charset-normalizer<4,>=2 in /opt/anaconda3/lib/python3.11/site-packages (from requests<3.0,>=2.6.0->prawcore<3,>=2.1->praw) (3.3.2)\n",
      "Requirement already satisfied: idna<4,>=2.5 in /opt/anaconda3/lib/python3.11/site-packages (from requests<3.0,>=2.6.0->prawcore<3,>=2.1->praw) (3.4)\n",
      "Requirement already satisfied: urllib3<3,>=1.21.1 in /opt/anaconda3/lib/python3.11/site-packages (from requests<3.0,>=2.6.0->prawcore<3,>=2.1->praw) (2.2.2)\n",
      "Requirement already satisfied: certifi>=2017.4.17 in /opt/anaconda3/lib/python3.11/site-packages (from requests<3.0,>=2.6.0->prawcore<3,>=2.1->praw) (2024.7.4)\n",
      "Note: you may need to restart the kernel to use updated packages.\n"
     ]
    }
   ],
   "source": [
    "%pip install praw"
   ]
  },
  {
   "cell_type": "code",
   "execution_count": 5,
   "metadata": {},
   "outputs": [],
   "source": [
    "import praw\n",
    "import pandas as pd\n",
    "import datetime as dt\n",
    "import csv\n",
    "\n",
    "import os \n",
    "import sys\n",
    "import csv\n",
    "from dotenv import load_dotenv\n"
   ]
  },
  {
   "cell_type": "code",
   "execution_count": 3,
   "metadata": {},
   "outputs": [
    {
     "name": "stdout",
     "output_type": "stream",
     "text": [
      "Env variables loaded\n"
     ]
    }
   ],
   "source": [
    "# bring in env variables \n",
    "load_dotenv()\n",
    "\n",
    "CLIENT_ID = os.getenv(\"CLIENT_ID\")\n",
    "CLIENT_SECRET = os.getenv(\"CLIENT_SECRET\")\n",
    "USER_AGENT = os.getenv(\"USER_AGENT\")\n",
    "USERNAME = os.getenv(\"USERNAME\")\n",
    "PASSWORD = os.getenv(\"PASSWORD\")\n",
    "\n",
    "print(\"Env variables loaded\")"
   ]
  },
  {
   "cell_type": "code",
   "execution_count": 4,
   "metadata": {},
   "outputs": [
    {
     "name": "stderr",
     "output_type": "stream",
     "text": [
      "Version 7.7.1 of praw is outdated. Version 7.8.1 was released 3 days ago.\n"
     ]
    }
   ],
   "source": [
    "# initialise connection with reddit\n",
    "reddit = praw.Reddit(client_id=CLIENT_ID, \n",
    "                     client_secret=CLIENT_SECRET, \n",
    "                     user_agent=USER_AGENT, \n",
    "                     username=USERNAME, \n",
    "                     password=PASSWORD)"
   ]
  },
  {
   "cell_type": "markdown",
   "metadata": {},
   "source": [
    "# (2) Data Scraping \n",
    "Within this subsection, we aim to focus mainly on the <strong>EXTERNAL</strong> factors as to why Ubisoft might have failed as a company. We will begin by doing a targeted, unbiased search of all things related to Ubisoft and their games within specific subreddits using neutral keywords. The subreddits that we will be focusing on are \n",
    "\n",
    "- r/Ubisoft \n",
    "- r/AssassinsCreed\n",
    "- r/Rainbow6\n",
    "- r/TheDivision\n",
    "- r/GhostRecon\n",
    "- r/ForHonorGame\n",
    "- r/WatchDogs\n",
    "- r/Gaming\n",
    "- r/Games\n",
    "- r/PCGaming\n",
    "- r/VideoGameNews\n",
    "- r/Steam\n",
    "- r/CrackWatch (for checking how well Ubisoft monitors piracy + bug fixing issues)\n",
    "\n",
    "The keywords that we will be using to target this search would be \n",
    "\n",
    "- (Ubisoft) Ubisoft, Ubi Soft, ubisoft, ubi, ubisofts, Ubisofts, ubis\n",
    "- (Locations) Ubisoft [geographic location]\n",
    "- (Platforms) Uplay, UConnect, Ubisoft Connect, Ubisoft Store, Login, PC, Playstation, Xbox, Nintendo Switch, Luna\n",
    "- (Events) Ubisoft Forward, E3, Showcase, EA + Ubisoft\n",
    "- (Games/Acronyms) AC, Assassin's Creed, Far Cry, FC5, FC6, Tom Clancy, R6S, R6 Siege, R6 Extraction, Tom Clancy's Rainbow Six, Tom Clancy's The Division, Watch Dogs, Ghost Recon, Just Dance, Prince of Persia, Splinter Cell (this will mainly be used in the r/gaming and more general subreddits), Skull and Bones, Beyond Good and Evil, Beyond Good and Evil 2, Riders Republic, Immortals Fenyx Rising, AC Valhalla, AC Origins, \n",
    "- (Game Features) Updates, DLC, Expansion, Patch, season pass, Open World, RPG, multiplayer, speed\n",
    "\n"
   ]
  },
  {
   "cell_type": "code",
   "execution_count": 7,
   "metadata": {},
   "outputs": [
    {
     "name": "stdout",
     "output_type": "stream",
     "text": [
      "20\n"
     ]
    }
   ],
   "source": [
    "# initialise variables \n",
    "# 1. subreddits to be scraped \n",
    "# 2. neutral keyword to better target searches within posts \n",
    "\n",
    "ubisoft_subreddits = ['Ubisoft', \n",
    "              \"assassinscreed\", \n",
    "              \"Rainbow6\", \n",
    "              \"GhostRecon\", \n",
    "              \"thedivision\", \n",
    "              \"farcry\", \n",
    "              \"farcry5\"\n",
    "              \"farcry6\", \n",
    "              \"watch_dogs\", \n",
    "              \"forhonor\",\n",
    "              \"Splintercell\", \n",
    "              \"PrinceOfPersia\", \n",
    "              \"JustDance\", \n",
    "              \"Steep\", \n",
    "              \"TrialsGames\", \n",
    "              \"anno\", \n",
    "              \"FenyxRising\",\n",
    "            #   \"TheSettlers\", \n",
    "            #   \"beyondgoodandevil\", \n",
    "              \"SkullAndBones\",\n",
    "              \"ACValhalla\",\n",
    "              \"AssassinsCreedOdyssey\",\n",
    "              \"AssassinsCreedOrigins\"\n",
    "              ]\n",
    "\n",
    "gaming_subreddits = ['gaming',\n",
    "                     'pcgaming',\n",
    "                     'PS4',\n",
    "                     'XboxOne',\n",
    "                     'NintendoSwitch',\n",
    "                     'Steam',\n",
    "                     'PS5',\n",
    "                     'XboxSeriesX',\n",
    "                     'CrackWatch']\n",
    "\n",
    "ubisoft_keywords = ['Ubisoft',\n",
    "                    ]\n",
    "\n",
    "\n"
   ]
  },
  {
   "cell_type": "code",
   "execution_count": null,
   "metadata": {},
   "outputs": [],
   "source": []
  }
 ],
 "metadata": {
  "kernelspec": {
   "display_name": "base",
   "language": "python",
   "name": "python3"
  },
  "language_info": {
   "codemirror_mode": {
    "name": "ipython",
    "version": 3
   },
   "file_extension": ".py",
   "mimetype": "text/x-python",
   "name": "python",
   "nbconvert_exporter": "python",
   "pygments_lexer": "ipython3",
   "version": "3.11.8"
  }
 },
 "nbformat": 4,
 "nbformat_minor": 2
}
