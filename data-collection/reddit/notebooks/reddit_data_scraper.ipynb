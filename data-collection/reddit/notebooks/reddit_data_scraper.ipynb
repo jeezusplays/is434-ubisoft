{
 "cells": [
  {
   "cell_type": "markdown",
   "metadata": {},
   "source": [
    "# Part 1: Data Collection (Ubisoft - External)\n",
    "- Collecting data that mentions Ubisoft across the various subreddits we are trying to surf from\n",
    "- Adding prerequisites for the data being collected\n",
    "    - Post must be more 20 words \n",
    "    - Account must be more than 1 week old\n",
    "    - Account must have more than 10 karma\n",
    "    - Posts will be collected from the past 1 year\n"
   ]
  },
  {
   "cell_type": "markdown",
   "metadata": {},
   "source": [
    "## (1) Import necessary libraries"
   ]
  },
  {
   "cell_type": "code",
   "execution_count": 1,
   "metadata": {},
   "outputs": [
    {
     "name": "stdout",
     "output_type": "stream",
     "text": [
      "Requirement already satisfied: praw in /opt/anaconda3/lib/python3.11/site-packages (7.7.1)\n",
      "Requirement already satisfied: prawcore<3,>=2.1 in /opt/anaconda3/lib/python3.11/site-packages (from praw) (2.4.0)\n",
      "Requirement already satisfied: update-checker>=0.18 in /opt/anaconda3/lib/python3.11/site-packages (from praw) (0.18.0)\n",
      "Requirement already satisfied: websocket-client>=0.54.0 in /opt/anaconda3/lib/python3.11/site-packages (from praw) (0.58.0)\n",
      "Requirement already satisfied: requests<3.0,>=2.6.0 in /opt/anaconda3/lib/python3.11/site-packages (from prawcore<3,>=2.1->praw) (2.32.3)\n",
      "Requirement already satisfied: six in /opt/anaconda3/lib/python3.11/site-packages (from websocket-client>=0.54.0->praw) (1.16.0)\n",
      "Requirement already satisfied: charset-normalizer<4,>=2 in /opt/anaconda3/lib/python3.11/site-packages (from requests<3.0,>=2.6.0->prawcore<3,>=2.1->praw) (3.3.2)\n",
      "Requirement already satisfied: idna<4,>=2.5 in /opt/anaconda3/lib/python3.11/site-packages (from requests<3.0,>=2.6.0->prawcore<3,>=2.1->praw) (3.4)\n",
      "Requirement already satisfied: urllib3<3,>=1.21.1 in /opt/anaconda3/lib/python3.11/site-packages (from requests<3.0,>=2.6.0->prawcore<3,>=2.1->praw) (2.2.2)\n",
      "Requirement already satisfied: certifi>=2017.4.17 in /opt/anaconda3/lib/python3.11/site-packages (from requests<3.0,>=2.6.0->prawcore<3,>=2.1->praw) (2024.7.4)\n",
      "Note: you may need to restart the kernel to use updated packages.\n"
     ]
    }
   ],
   "source": [
    "%pip install praw"
   ]
  },
  {
   "cell_type": "code",
   "execution_count": 8,
   "metadata": {},
   "outputs": [],
   "source": [
    "import praw\n",
    "import pandas as pd\n",
    "import datetime as dt\n",
    "import csv\n",
    "\n",
    "import os \n",
    "import sys\n",
    "import csv\n",
    "from dotenv import load_dotenv\n",
    "\n",
    "import itertools\n",
    "\n"
   ]
  },
  {
   "cell_type": "code",
   "execution_count": 3,
   "metadata": {},
   "outputs": [
    {
     "name": "stdout",
     "output_type": "stream",
     "text": [
      "Env variables loaded\n"
     ]
    }
   ],
   "source": [
    "# bring in env variables \n",
    "load_dotenv()\n",
    "\n",
    "CLIENT_ID = os.getenv(\"CLIENT_ID\")\n",
    "CLIENT_SECRET = os.getenv(\"CLIENT_SECRET\")\n",
    "USER_AGENT = os.getenv(\"USER_AGENT\")\n",
    "USERNAME = os.getenv(\"USERNAME\")\n",
    "PASSWORD = os.getenv(\"PASSWORD\")\n",
    "\n",
    "print(\"Env variables loaded\")"
   ]
  },
  {
   "cell_type": "code",
   "execution_count": 4,
   "metadata": {},
   "outputs": [
    {
     "name": "stderr",
     "output_type": "stream",
     "text": [
      "Version 7.7.1 of praw is outdated. Version 7.8.1 was released 3 days ago.\n"
     ]
    }
   ],
   "source": [
    "# initialise connection with reddit\n",
    "reddit = praw.Reddit(client_id=CLIENT_ID, \n",
    "                     client_secret=CLIENT_SECRET, \n",
    "                     user_agent=USER_AGENT, \n",
    "                     username=USERNAME, \n",
    "                     password=PASSWORD)"
   ]
  },
  {
   "cell_type": "markdown",
   "metadata": {},
   "source": [
    "# (2) Data Scraping \n",
    "Within this subsection, we aim to focus mainly on the <strong>EXTERNAL</strong> factors as to why Ubisoft might have failed as a company. We will begin by doing a targeted, unbiased search of all things related to Ubisoft and their games within specific subreddits using neutral keywords. The subreddits that we will be focusing on are \n",
    "\n",
    "- r/Ubisoft \n",
    "- r/AssassinsCreed\n",
    "- r/Rainbow6\n",
    "- r/TheDivision\n",
    "- r/GhostRecon\n",
    "- r/ForHonorGame\n",
    "- r/WatchDogs\n",
    "- r/Gaming\n",
    "- r/Games\n",
    "- r/PCGaming\n",
    "- r/VideoGameNews\n",
    "- r/Steam\n",
    "- r/CrackWatch (for checking how well Ubisoft monitors piracy + bug fixing issues)\n",
    "\n",
    "The keywords that we will be using to target this search would be \n",
    "\n",
    "- (Ubisoft) Ubisoft, Ubi Soft, ubisoft, ubi, ubisofts, Ubisofts, ubis\n",
    "- (Locations) Ubisoft [geographic location]\n",
    "- (Platforms) Uplay, UConnect, Ubisoft Connect, Ubisoft Store, Login, PC, Playstation, Xbox, Nintendo Switch, Luna\n",
    "- (Events) Ubisoft Forward, E3, Showcase, EA + Ubisoft\n",
    "- (Games/Acronyms) AC, Assassin's Creed, Far Cry, FC5, FC6, Tom Clancy, R6S, R6 Siege, R6 Extraction, Tom Clancy's Rainbow Six, Tom Clancy's The Division, Watch Dogs, Ghost Recon, Just Dance, Prince of Persia, Splinter Cell (this will mainly be used in the r/gaming and more general subreddits), Skull and Bones, Beyond Good and Evil, Beyond Good and Evil 2, Riders Republic, Immortals Fenyx Rising, AC Valhalla, AC Origins, \n",
    "- (Game Features) Updates, DLC, Expansion, Patch, season pass, Open World, RPG, multiplayer, speed\n",
    "\n"
   ]
  },
  {
   "cell_type": "code",
   "execution_count": 9,
   "metadata": {},
   "outputs": [],
   "source": [
    "# initialise variables \n",
    "# 1. subreddits to be scraped \n",
    "# 2. neutral keyword to better target searches within posts \n",
    "\n",
    "ubisoft_subreddits = ['Ubisoft', \n",
    "              \"assassinscreed\", \n",
    "              \"Rainbow6\", \n",
    "              \"GhostRecon\", \n",
    "              \"thedivision\", \n",
    "              \"farcry\", \n",
    "              \"farcry5\"\n",
    "              \"farcry6\", \n",
    "              \"watch_dogs\", \n",
    "              \"forhonor\",\n",
    "              \"Splintercell\", \n",
    "              \"PrinceOfPersia\", \n",
    "              \"JustDance\", \n",
    "              \"Steep\", \n",
    "              \"TrialsGames\", \n",
    "              \"anno\", \n",
    "              \"FenyxRising\",\n",
    "            #   \"TheSettlers\", \n",
    "            #   \"beyondgoodandevil\", \n",
    "              \"SkullAndBones\",\n",
    "              \"ACValhalla\",\n",
    "              \"AssassinsCreedOdyssey\",\n",
    "              \"AssassinsCreedOrigins\"\n",
    "              ]\n",
    "\n",
    "gaming_subreddits = ['gaming',\n",
    "                     'pcgaming',\n",
    "                     'PS4',\n",
    "                     'XboxOne',\n",
    "                     'NintendoSwitch',\n",
    "                     'Steam',\n",
    "                     'PS5',\n",
    "                     'XboxSeriesX',\n",
    "                     'CrackWatch']\n",
    "\n",
    "company_keywords = [\n",
    "    'Ubisoft', 'ubisoft', 'Ubi Soft', 'ubi soft', 'ubi', 'ubisofts', 'Ubisofts', 'ubis'\n",
    "]\n",
    "\n",
    "locations = [\n",
    "    'Ubisoft Montreal', 'Ubisoft Toronto', 'Ubisoft Paris', 'Ubisoft Shanghai', 'Ubisoft Singapore'\n",
    "]\n",
    "\n",
    "platform_keywords = [\n",
    "    'Uplay', 'UConnect', 'Ubisoft Connect', 'Ubisoft Store', 'Login', 'PC', 'Playstation', 'Xbox', 'Nintendo Switch', 'Luna'\n",
    "]\n",
    "\n",
    "event_keywords = [\n",
    "    'Ubisoft Forward', 'E3', 'Showcase', 'EA + Ubisoft', 'EA and Ubisoft'\n",
    "]\n",
    "\n",
    "game_keywords = [\n",
    "    'AC', \"Assassin's Creed\", 'Far Cry', 'FC5', 'FC6', 'Tom Clancy', 'R6S', 'R6 Siege', 'R6 Extraction',\n",
    "    \"Tom Clancy's Rainbow Six\", \"Tom Clancy's The Division\", 'Watch Dogs', 'Ghost Recon', 'Just Dance',\n",
    "    'Prince of Persia', 'Splinter Cell', 'Skull and Bones', 'Beyond Good and Evil', 'Beyond Good and Evil 2',\n",
    "    'Riders Republic', 'Immortals Fenyx Rising', 'AC Valhalla', 'AC Origins', \"Assassin's Creed Valhalla\",\n",
    "    \"Assassin's Creed Origins\"\n",
    "]\n",
    "\n",
    "feature_keywords = [\n",
    "    'Updates', 'DLC', 'Expansion', 'Patch', 'Season Pass', 'Open World', 'RPG', 'Multiplayer', 'Speed'\n",
    "]\n",
    "\n",
    "\n",
    "\n"
   ]
  },
  {
   "cell_type": "code",
   "execution_count": 10,
   "metadata": {},
   "outputs": [
    {
     "name": "stdout",
     "output_type": "stream",
     "text": [
      "(\"Ubisoft\" OR \"ubisoft\" OR \"Ubi Soft\" OR \"ubi soft\" OR \"ubi\" OR \"ubisofts\" OR \"Ubisofts\" OR \"ubis\") AND (\"AC\" OR \"Assassin's Creed\" OR \"Far Cry\" OR \"FC5\" OR \"FC6\" OR \"Tom Clancy\" OR \"R6S\" OR \"R6 Siege\" OR \"R6 Extraction\" OR \"Tom Clancy's Rainbow Six\" OR \"Tom Clancy's The Division\" OR \"Watch Dogs\" OR \"Ghost Recon\" OR \"Just Dance\" OR \"Prince of Persia\" OR \"Splinter Cell\" OR \"Skull and Bones\" OR \"Beyond Good and Evil\" OR \"Beyond Good and Evil 2\" OR \"Riders Republic\" OR \"Immortals Fenyx Rising\" OR \"AC Valhalla\" OR \"AC Origins\" OR \"Assassin's Creed Valhalla\" OR \"Assassin's Creed Origins\")\n"
     ]
    }
   ],
   "source": [
    "\n",
    "# this is how the search query will be created -> difference combinations of the aforementioned keywords\n",
    "company_phrase = ' OR '.join(f'\"{word}\"' for word in company_keywords)\n",
    "game_phrase = ' OR '.join(f'\"{word}\"' for word in game_keywords)\n",
    "feature_phrase = ' OR '.join(f'\"{word}\"' for word in feature_keywords)\n",
    "search_query = f'({company_phrase}) AND ({game_phrase})'\n",
    "\n",
    "print(search_query)\n"
   ]
  },
  {
   "cell_type": "code",
   "execution_count": 11,
   "metadata": {},
   "outputs": [],
   "source": [
    "def create_query(keyword_list):\n",
    "    return ' OR '.join(f'\"{keyword}\"' for keyword in keyword_list)\n",
    "\n",
    "company_query = create_query(company_keywords + locations)\n",
    "game_query = create_query(game_keywords)\n",
    "feature_query = create_query(feature_keywords)\n",
    "event_query = create_query(event_keywords)\n",
    "platform_query = create_query(platform_keywords)\n"
   ]
  },
  {
   "cell_type": "code",
   "execution_count": 12,
   "metadata": {},
   "outputs": [],
   "source": [
    "LIMITS_SUBREDDIT = 1000\n",
    "# Total expected submissions\n",
    "total_expected_submissions = LIMITS_SUBREDDIT * len(ubisoft_subreddits + gaming_subreddits)\n",
    "\n",
    "def search_submissions(praw_instance, subreddits, query, limit_per_subreddit):\n",
    "    collected_submissions = []\n",
    "    for subreddit_name in subreddits:\n",
    "        subreddit = praw_instance.subreddit(subreddit_name)\n",
    "        print(f\"Searching submissions in r/{subreddit_name}...\")\n",
    "        try:\n",
    "            submissions = subreddit.search(query=query, sort='new', limit=limit_per_subreddit, syntax='lucene')\n",
    "            for submission in submissions:\n",
    "                submission_data = {\n",
    "                    'id': submission.id,\n",
    "                    'title': submission.title,\n",
    "                    'selftext': submission.selftext,\n",
    "                    'created_utc': submission.created_utc,\n",
    "                    'subreddit': submission.subreddit.display_name,\n",
    "                    'url': submission.url,\n",
    "                    'author': str(submission.author)\n",
    "                }\n",
    "                collected_submissions.append(submission_data)\n",
    "        except Exception as e:\n",
    "            print(f\"An error occurred in r/{subreddit_name}: {e}\")\n",
    "    return collected_submissions\n",
    "\n",
    "def collect_comments_from_submissions(praw_instance, submission_ids):\n",
    "    collected_comments = []\n",
    "    for submission_id in submission_ids:\n",
    "        submission = praw_instance.submission(id=submission_id)\n",
    "        submission.comments.replace_more(limit=None)\n",
    "        for comment in submission.comments.list():\n",
    "            comment_data = {\n",
    "                'id': comment.id,\n",
    "                'body': comment.body,\n",
    "                'created_utc': comment.created_utc,\n",
    "                'submission_id': submission_id,\n",
    "                'subreddit': comment.subreddit.display_name,\n",
    "                'author': str(comment.author)\n",
    "            }\n",
    "            collected_comments.append(comment_data)\n",
    "    return collected_comments\n",
    "\n",
    "\n",
    "\n",
    "\n",
    "\n",
    "\n",
    "\n",
    "\n"
   ]
  },
  {
   "cell_type": "code",
   "execution_count": 13,
   "metadata": {},
   "outputs": [
    {
     "name": "stdout",
     "output_type": "stream",
     "text": [
      "Searching submissions in r/gaming...\n",
      "Searching submissions in r/pcgaming...\n",
      "Searching submissions in r/PS4...\n",
      "Searching submissions in r/XboxOne...\n",
      "Searching submissions in r/NintendoSwitch...\n",
      "Searching submissions in r/Steam...\n",
      "Searching submissions in r/PS5...\n",
      "Searching submissions in r/XboxSeriesX...\n",
      "Searching submissions in r/CrackWatch...\n",
      "Searching submissions in r/Ubisoft...\n",
      "Searching submissions in r/assassinscreed...\n",
      "Searching submissions in r/Rainbow6...\n",
      "Searching submissions in r/GhostRecon...\n",
      "Searching submissions in r/thedivision...\n",
      "Searching submissions in r/farcry...\n",
      "Searching submissions in r/farcry5farcry6...\n",
      "An error occurred in r/farcry5farcry6: Redirect to /subreddits/search\n",
      "Searching submissions in r/watch_dogs...\n",
      "Searching submissions in r/forhonor...\n",
      "Searching submissions in r/Splintercell...\n",
      "Searching submissions in r/PrinceOfPersia...\n",
      "Searching submissions in r/JustDance...\n",
      "Searching submissions in r/Steep...\n",
      "Searching submissions in r/TrialsGames...\n",
      "Searching submissions in r/anno...\n",
      "Searching submissions in r/FenyxRising...\n",
      "Searching submissions in r/SkullAndBones...\n",
      "An error occurred in r/SkullAndBones: received 403 HTTP response\n",
      "Searching submissions in r/ACValhalla...\n",
      "Searching submissions in r/AssassinsCreedOdyssey...\n",
      "Searching submissions in r/AssassinsCreedOrigins...\n",
      "Total submissions collected: 0\n"
     ]
    },
    {
     "ename": "FileNotFoundError",
     "evalue": "[Errno 2] No such file or directory: 'focused_reddit_data.csv'",
     "output_type": "error",
     "traceback": [
      "\u001b[0;31m---------------------------------------------------------------------------\u001b[0m",
      "\u001b[0;31mFileNotFoundError\u001b[0m                         Traceback (most recent call last)",
      "Cell \u001b[0;32mIn[13], line 6\u001b[0m\n\u001b[1;32m      4\u001b[0m submissions_df \u001b[38;5;241m=\u001b[39m pd\u001b[38;5;241m.\u001b[39mDataFrame(submissions)\n\u001b[1;32m      5\u001b[0m submissions_df\u001b[38;5;241m.\u001b[39mdrop_duplicates(subset\u001b[38;5;241m=\u001b[39m\u001b[38;5;124m'\u001b[39m\u001b[38;5;124mid\u001b[39m\u001b[38;5;124m'\u001b[39m, inplace\u001b[38;5;241m=\u001b[39m\u001b[38;5;28;01mTrue\u001b[39;00m)\n\u001b[0;32m----> 6\u001b[0m submissions_df\u001b[38;5;241m.\u001b[39mto_csv(\u001b[38;5;124m'\u001b[39m\u001b[38;5;124mfocused_reddit_data.csv\u001b[39m\u001b[38;5;124m'\u001b[39m, index\u001b[38;5;241m=\u001b[39m\u001b[38;5;28;01mFalse\u001b[39;00m)\n",
      "File \u001b[0;32m/opt/anaconda3/lib/python3.11/site-packages/pandas/core/generic.py:3902\u001b[0m, in \u001b[0;36mNDFrame.to_csv\u001b[0;34m(self, path_or_buf, sep, na_rep, float_format, columns, header, index, index_label, mode, encoding, compression, quoting, quotechar, lineterminator, chunksize, date_format, doublequote, escapechar, decimal, errors, storage_options)\u001b[0m\n\u001b[1;32m   3891\u001b[0m df \u001b[38;5;241m=\u001b[39m \u001b[38;5;28mself\u001b[39m \u001b[38;5;28;01mif\u001b[39;00m \u001b[38;5;28misinstance\u001b[39m(\u001b[38;5;28mself\u001b[39m, ABCDataFrame) \u001b[38;5;28;01melse\u001b[39;00m \u001b[38;5;28mself\u001b[39m\u001b[38;5;241m.\u001b[39mto_frame()\n\u001b[1;32m   3893\u001b[0m formatter \u001b[38;5;241m=\u001b[39m DataFrameFormatter(\n\u001b[1;32m   3894\u001b[0m     frame\u001b[38;5;241m=\u001b[39mdf,\n\u001b[1;32m   3895\u001b[0m     header\u001b[38;5;241m=\u001b[39mheader,\n\u001b[0;32m   (...)\u001b[0m\n\u001b[1;32m   3899\u001b[0m     decimal\u001b[38;5;241m=\u001b[39mdecimal,\n\u001b[1;32m   3900\u001b[0m )\n\u001b[0;32m-> 3902\u001b[0m \u001b[38;5;28;01mreturn\u001b[39;00m DataFrameRenderer(formatter)\u001b[38;5;241m.\u001b[39mto_csv(\n\u001b[1;32m   3903\u001b[0m     path_or_buf,\n\u001b[1;32m   3904\u001b[0m     lineterminator\u001b[38;5;241m=\u001b[39mlineterminator,\n\u001b[1;32m   3905\u001b[0m     sep\u001b[38;5;241m=\u001b[39msep,\n\u001b[1;32m   3906\u001b[0m     encoding\u001b[38;5;241m=\u001b[39mencoding,\n\u001b[1;32m   3907\u001b[0m     errors\u001b[38;5;241m=\u001b[39merrors,\n\u001b[1;32m   3908\u001b[0m     compression\u001b[38;5;241m=\u001b[39mcompression,\n\u001b[1;32m   3909\u001b[0m     quoting\u001b[38;5;241m=\u001b[39mquoting,\n\u001b[1;32m   3910\u001b[0m     columns\u001b[38;5;241m=\u001b[39mcolumns,\n\u001b[1;32m   3911\u001b[0m     index_label\u001b[38;5;241m=\u001b[39mindex_label,\n\u001b[1;32m   3912\u001b[0m     mode\u001b[38;5;241m=\u001b[39mmode,\n\u001b[1;32m   3913\u001b[0m     chunksize\u001b[38;5;241m=\u001b[39mchunksize,\n\u001b[1;32m   3914\u001b[0m     quotechar\u001b[38;5;241m=\u001b[39mquotechar,\n\u001b[1;32m   3915\u001b[0m     date_format\u001b[38;5;241m=\u001b[39mdate_format,\n\u001b[1;32m   3916\u001b[0m     doublequote\u001b[38;5;241m=\u001b[39mdoublequote,\n\u001b[1;32m   3917\u001b[0m     escapechar\u001b[38;5;241m=\u001b[39mescapechar,\n\u001b[1;32m   3918\u001b[0m     storage_options\u001b[38;5;241m=\u001b[39mstorage_options,\n\u001b[1;32m   3919\u001b[0m )\n",
      "File \u001b[0;32m/opt/anaconda3/lib/python3.11/site-packages/pandas/io/formats/format.py:1152\u001b[0m, in \u001b[0;36mDataFrameRenderer.to_csv\u001b[0;34m(self, path_or_buf, encoding, sep, columns, index_label, mode, compression, quoting, quotechar, lineterminator, chunksize, date_format, doublequote, escapechar, errors, storage_options)\u001b[0m\n\u001b[1;32m   1131\u001b[0m     created_buffer \u001b[38;5;241m=\u001b[39m \u001b[38;5;28;01mFalse\u001b[39;00m\n\u001b[1;32m   1133\u001b[0m csv_formatter \u001b[38;5;241m=\u001b[39m CSVFormatter(\n\u001b[1;32m   1134\u001b[0m     path_or_buf\u001b[38;5;241m=\u001b[39mpath_or_buf,\n\u001b[1;32m   1135\u001b[0m     lineterminator\u001b[38;5;241m=\u001b[39mlineterminator,\n\u001b[0;32m   (...)\u001b[0m\n\u001b[1;32m   1150\u001b[0m     formatter\u001b[38;5;241m=\u001b[39m\u001b[38;5;28mself\u001b[39m\u001b[38;5;241m.\u001b[39mfmt,\n\u001b[1;32m   1151\u001b[0m )\n\u001b[0;32m-> 1152\u001b[0m csv_formatter\u001b[38;5;241m.\u001b[39msave()\n\u001b[1;32m   1154\u001b[0m \u001b[38;5;28;01mif\u001b[39;00m created_buffer:\n\u001b[1;32m   1155\u001b[0m     \u001b[38;5;28;01massert\u001b[39;00m \u001b[38;5;28misinstance\u001b[39m(path_or_buf, StringIO)\n",
      "File \u001b[0;32m/opt/anaconda3/lib/python3.11/site-packages/pandas/io/formats/csvs.py:247\u001b[0m, in \u001b[0;36mCSVFormatter.save\u001b[0;34m(self)\u001b[0m\n\u001b[1;32m    243\u001b[0m \u001b[38;5;250m\u001b[39m\u001b[38;5;124;03m\"\"\"\u001b[39;00m\n\u001b[1;32m    244\u001b[0m \u001b[38;5;124;03mCreate the writer & save.\u001b[39;00m\n\u001b[1;32m    245\u001b[0m \u001b[38;5;124;03m\"\"\"\u001b[39;00m\n\u001b[1;32m    246\u001b[0m \u001b[38;5;66;03m# apply compression and byte/text conversion\u001b[39;00m\n\u001b[0;32m--> 247\u001b[0m \u001b[38;5;28;01mwith\u001b[39;00m get_handle(\n\u001b[1;32m    248\u001b[0m     \u001b[38;5;28mself\u001b[39m\u001b[38;5;241m.\u001b[39mfilepath_or_buffer,\n\u001b[1;32m    249\u001b[0m     \u001b[38;5;28mself\u001b[39m\u001b[38;5;241m.\u001b[39mmode,\n\u001b[1;32m    250\u001b[0m     encoding\u001b[38;5;241m=\u001b[39m\u001b[38;5;28mself\u001b[39m\u001b[38;5;241m.\u001b[39mencoding,\n\u001b[1;32m    251\u001b[0m     errors\u001b[38;5;241m=\u001b[39m\u001b[38;5;28mself\u001b[39m\u001b[38;5;241m.\u001b[39merrors,\n\u001b[1;32m    252\u001b[0m     compression\u001b[38;5;241m=\u001b[39m\u001b[38;5;28mself\u001b[39m\u001b[38;5;241m.\u001b[39mcompression,\n\u001b[1;32m    253\u001b[0m     storage_options\u001b[38;5;241m=\u001b[39m\u001b[38;5;28mself\u001b[39m\u001b[38;5;241m.\u001b[39mstorage_options,\n\u001b[1;32m    254\u001b[0m ) \u001b[38;5;28;01mas\u001b[39;00m handles:\n\u001b[1;32m    255\u001b[0m     \u001b[38;5;66;03m# Note: self.encoding is irrelevant here\u001b[39;00m\n\u001b[1;32m    256\u001b[0m     \u001b[38;5;28mself\u001b[39m\u001b[38;5;241m.\u001b[39mwriter \u001b[38;5;241m=\u001b[39m csvlib\u001b[38;5;241m.\u001b[39mwriter(\n\u001b[1;32m    257\u001b[0m         handles\u001b[38;5;241m.\u001b[39mhandle,\n\u001b[1;32m    258\u001b[0m         lineterminator\u001b[38;5;241m=\u001b[39m\u001b[38;5;28mself\u001b[39m\u001b[38;5;241m.\u001b[39mlineterminator,\n\u001b[0;32m   (...)\u001b[0m\n\u001b[1;32m    263\u001b[0m         quotechar\u001b[38;5;241m=\u001b[39m\u001b[38;5;28mself\u001b[39m\u001b[38;5;241m.\u001b[39mquotechar,\n\u001b[1;32m    264\u001b[0m     )\n\u001b[1;32m    266\u001b[0m     \u001b[38;5;28mself\u001b[39m\u001b[38;5;241m.\u001b[39m_save()\n",
      "File \u001b[0;32m/opt/anaconda3/lib/python3.11/site-packages/pandas/io/common.py:863\u001b[0m, in \u001b[0;36mget_handle\u001b[0;34m(path_or_buf, mode, encoding, compression, memory_map, is_text, errors, storage_options)\u001b[0m\n\u001b[1;32m    858\u001b[0m \u001b[38;5;28;01melif\u001b[39;00m \u001b[38;5;28misinstance\u001b[39m(handle, \u001b[38;5;28mstr\u001b[39m):\n\u001b[1;32m    859\u001b[0m     \u001b[38;5;66;03m# Check whether the filename is to be opened in binary mode.\u001b[39;00m\n\u001b[1;32m    860\u001b[0m     \u001b[38;5;66;03m# Binary mode does not support 'encoding' and 'newline'.\u001b[39;00m\n\u001b[1;32m    861\u001b[0m     \u001b[38;5;28;01mif\u001b[39;00m ioargs\u001b[38;5;241m.\u001b[39mencoding \u001b[38;5;129;01mand\u001b[39;00m \u001b[38;5;124m\"\u001b[39m\u001b[38;5;124mb\u001b[39m\u001b[38;5;124m\"\u001b[39m \u001b[38;5;129;01mnot\u001b[39;00m \u001b[38;5;129;01min\u001b[39;00m ioargs\u001b[38;5;241m.\u001b[39mmode:\n\u001b[1;32m    862\u001b[0m         \u001b[38;5;66;03m# Encoding\u001b[39;00m\n\u001b[0;32m--> 863\u001b[0m         handle \u001b[38;5;241m=\u001b[39m \u001b[38;5;28mopen\u001b[39m(\n\u001b[1;32m    864\u001b[0m             handle,\n\u001b[1;32m    865\u001b[0m             ioargs\u001b[38;5;241m.\u001b[39mmode,\n\u001b[1;32m    866\u001b[0m             encoding\u001b[38;5;241m=\u001b[39mioargs\u001b[38;5;241m.\u001b[39mencoding,\n\u001b[1;32m    867\u001b[0m             errors\u001b[38;5;241m=\u001b[39merrors,\n\u001b[1;32m    868\u001b[0m             newline\u001b[38;5;241m=\u001b[39m\u001b[38;5;124m\"\u001b[39m\u001b[38;5;124m\"\u001b[39m,\n\u001b[1;32m    869\u001b[0m         )\n\u001b[1;32m    870\u001b[0m     \u001b[38;5;28;01melse\u001b[39;00m:\n\u001b[1;32m    871\u001b[0m         \u001b[38;5;66;03m# Binary mode\u001b[39;00m\n\u001b[1;32m    872\u001b[0m         handle \u001b[38;5;241m=\u001b[39m \u001b[38;5;28mopen\u001b[39m(handle, ioargs\u001b[38;5;241m.\u001b[39mmode)\n",
      "\u001b[0;31mFileNotFoundError\u001b[0m: [Errno 2] No such file or directory: 'focused_reddit_data.csv'"
     ]
    }
   ],
   "source": [
    "submissions = search_submissions(reddit, (gaming_subreddits + ubisoft_subreddits), search_query, LIMITS_SUBREDDIT)\n",
    "print(f\"Total submissions collected: {len(submissions)}\")\n",
    "\n",
    "submissions_df = pd.DataFrame(submissions)\n",
    "submissions_df.drop_duplicates(subset='id', inplace=True)\n",
    "submissions_df.to_csv('focused_reddit_data.csv', index=False)"
   ]
  },
  {
   "cell_type": "code",
   "execution_count": null,
   "metadata": {},
   "outputs": [],
   "source": []
  }
 ],
 "metadata": {
  "kernelspec": {
   "display_name": "base",
   "language": "python",
   "name": "python3"
  },
  "language_info": {
   "codemirror_mode": {
    "name": "ipython",
    "version": 3
   },
   "file_extension": ".py",
   "mimetype": "text/x-python",
   "name": "python",
   "nbconvert_exporter": "python",
   "pygments_lexer": "ipython3",
   "version": "3.11.8"
  }
 },
 "nbformat": 4,
 "nbformat_minor": 2
}
