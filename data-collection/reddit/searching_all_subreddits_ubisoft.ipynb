{
 "cells": [
  {
   "cell_type": "markdown",
   "metadata": {},
   "source": [
    "## Searching instances of Ubisoft across all subreddits \n",
    "\n",
    "- this notebook searches for instance of Ubisoft + all the issues they face eg \"toxic workplace\" in the same post \n",
    "- results are in \"reddit_ubisoft_posts.csv\""
   ]
  },
  {
   "cell_type": "code",
   "execution_count": 2,
   "metadata": {},
   "outputs": [],
   "source": [
    "import praw\n",
    "import pandas as pd\n",
    "import datetime as dt\n",
    "\n",
    "import os \n",
    "import sys\n",
    "from dotenv import load_dotenv"
   ]
  },
  {
   "cell_type": "code",
   "execution_count": 3,
   "metadata": {},
   "outputs": [
    {
     "name": "stdout",
     "output_type": "stream",
     "text": [
      "Env variables loaded\n"
     ]
    }
   ],
   "source": [
    "# bring in env variables \n",
    "load_dotenv()\n",
    "\n",
    "CLIENT_ID = os.getenv(\"CLIENT_ID\")\n",
    "CLIENT_SECRET = os.getenv(\"CLIENT_SECRET\")\n",
    "USER_AGENT = os.getenv(\"USER_AGENT\")\n",
    "USERNAME = os.getenv(\"USERNAME\")\n",
    "PASSWORD = os.getenv(\"PASSWORD\")\n",
    "\n",
    "print(\"Env variables loaded\")"
   ]
  },
  {
   "cell_type": "code",
   "execution_count": 4,
   "metadata": {},
   "outputs": [],
   "source": [
    "# initialise connection with reddit\n",
    "reddit = praw.Reddit(client_id=CLIENT_ID, \n",
    "                     client_secret=CLIENT_SECRET, \n",
    "                     user_agent=USER_AGENT, \n",
    "                     username=USERNAME, \n",
    "                     password=PASSWORD)"
   ]
  },
  {
   "cell_type": "code",
   "execution_count": 6,
   "metadata": {},
   "outputs": [
    {
     "name": "stdout",
     "output_type": "stream",
     "text": [
      "Searching for posts mentioning: Ubisoft\n",
      "Finished collecting 10 posts for keyword: Ubisoft\n",
      "Searching for posts mentioning: Ubisoft games\n",
      "Finished collecting 10 posts for keyword: Ubisoft games\n",
      "Searching for posts mentioning: Ubisoft controversy\n",
      "Finished collecting 10 posts for keyword: Ubisoft controversy\n",
      "Searching for posts mentioning: Ubisoft issues\n",
      "Finished collecting 10 posts for keyword: Ubisoft issues\n",
      "Searching for posts mentioning: Ubisoft downfall\n",
      "Finished collecting 10 posts for keyword: Ubisoft downfall\n",
      "Searching for posts mentioning: Assassin's Creed\n",
      "Finished collecting 10 posts for keyword: Assassin's Creed\n",
      "Searching for posts mentioning: Far Cry\n",
      "Finished collecting 10 posts for keyword: Far Cry\n",
      "Searching for posts mentioning: Rainbow Six\n",
      "Finished collecting 10 posts for keyword: Rainbow Six\n",
      "Searching for posts mentioning: Watch Dogs\n",
      "Finished collecting 10 posts for keyword: Watch Dogs\n",
      "Searching for posts mentioning: The Division\n",
      "Finished collecting 10 posts for keyword: The Division\n",
      "Searching for posts mentioning: bug\n",
      "Finished collecting 10 posts for keyword: bug\n",
      "Searching for posts mentioning: glitch\n",
      "Finished collecting 10 posts for keyword: glitch\n",
      "Searching for posts mentioning: broken\n",
      "Finished collecting 10 posts for keyword: broken\n",
      "Searching for posts mentioning: underwhelming\n",
      "Finished collecting 10 posts for keyword: underwhelming\n",
      "Searching for posts mentioning: disappointing\n",
      "Finished collecting 10 posts for keyword: disappointing\n",
      "Searching for posts mentioning: overpriced\n",
      "Finished collecting 10 posts for keyword: overpriced\n",
      "Searching for posts mentioning: bad experience\n",
      "Finished collecting 10 posts for keyword: bad experience\n",
      "Searching for posts mentioning: poor performance\n",
      "Finished collecting 10 posts for keyword: poor performance\n",
      "Searching for posts mentioning: bad management\n",
      "Finished collecting 10 posts for keyword: bad management\n",
      "Searching for posts mentioning: scandal\n",
      "Finished collecting 10 posts for keyword: scandal\n",
      "Searching for posts mentioning: lawsuit\n",
      "Finished collecting 10 posts for keyword: lawsuit\n",
      "Searching for posts mentioning: toxic workplace\n",
      "Finished collecting 9 posts for keyword: toxic workplace\n",
      "Searching for posts mentioning: CEO controversy\n",
      "Finished collecting 10 posts for keyword: CEO controversy\n",
      "Searching for posts mentioning: bad leadership\n",
      "Finished collecting 10 posts for keyword: bad leadership\n",
      "Searching for posts mentioning: microtransactions\n",
      "Finished collecting 10 posts for keyword: microtransactions\n",
      "Searching for posts mentioning: DLC\n",
      "Finished collecting 10 posts for keyword: DLC\n",
      "Searching for posts mentioning: repetitive\n",
      "Finished collecting 10 posts for keyword: repetitive\n",
      "Searching for posts mentioning: pay-to-win\n",
      "Finished collecting 10 posts for keyword: pay-to-win\n",
      "Searching for posts mentioning: poor optimization\n",
      "Finished collecting 10 posts for keyword: poor optimization\n",
      "Data collection complete. Results saved to 'ubisoft_all_subreddits.csv'.\n"
     ]
    }
   ],
   "source": [
    "# retrieving all posts talking about ubisoft or instances of ubisoft \n",
    "\n",
    "import csv\n",
    "\n",
    "subreddits = ['gaming', 'assassinscreed', 'Ubisoft', 'pcgaming', 'videogames']\n",
    "\n",
    "# Combine subreddits into one subreddit instance\n",
    "subreddit = reddit.subreddit('+'.join(subreddits))\n",
    "\n",
    "# Define the keywords you want to search for\n",
    "keywords = ['Ubisoft', 'Ubisoft games', 'Ubisoft controversy', 'Ubisoft issues', \n",
    "            'Ubisoft downfall', 'Assassin\\'s Creed', 'Far Cry', 'Rainbow Six', \n",
    "            'Watch Dogs', 'The Division', 'bug', 'glitch', 'broken', \n",
    "            'underwhelming', 'disappointing', 'overpriced', 'bad experience', \n",
    "            'poor performance', 'bad management', 'scandal', 'lawsuit', \n",
    "            'toxic workplace', 'CEO controversy', 'bad leadership', \n",
    "            'microtransactions', 'DLC', 'repetitive', 'pay-to-win', \n",
    "            'poor optimization']\n",
    "\n",
    "# Open a CSV file to store the results\n",
    "with open('ubisoft_all_subreddits.csv', mode='w', newline='', encoding='utf-8') as file:\n",
    "    writer = csv.writer(file)\n",
    "    # Write the header row\n",
    "    writer.writerow(['Keyword', 'Subreddit', 'Title', 'Score', 'URL', 'Author'])\n",
    "    \n",
    "    # Loop over each keyword\n",
    "    for keyword in keywords:\n",
    "        print(f\"Searching for posts mentioning: {keyword}\")\n",
    "        count = 0  # Counter to limit the number of posts per keyword\n",
    "        for submission in subreddit.search(keyword, limit=10, sort='new'):\n",
    "            # Write each post's details into the CSV\n",
    "            writer.writerow([keyword, submission.subreddit.display_name, submission.title, \n",
    "                             submission.score, submission.url, submission.author])\n",
    "            count += 1\n",
    "            \n",
    "            # Break if the limit (10 posts per keyword) is reached\n",
    "            if count >= 10:\n",
    "                break\n",
    "            \n",
    "        print(f\"Finished collecting {count} posts for keyword: {keyword}\")\n",
    "\n",
    "print(\"Data collection complete. Results saved to 'ubisoft_all_subreddits.csv'.\")"
   ]
  },
  {
   "cell_type": "code",
   "execution_count": 7,
   "metadata": {},
   "outputs": [
    {
     "name": "stdout",
     "output_type": "stream",
     "text": [
      "Searching for posts mentioning: toxic workplace and 'Ubisoft'\n",
      "Finished collecting 3 posts for keyword: toxic workplace\n",
      "Searching for posts mentioning: scandal and 'Ubisoft'\n",
      "Finished collecting 10 posts for keyword: scandal\n",
      "Searching for posts mentioning: bad management and 'Ubisoft'\n",
      "Finished collecting 10 posts for keyword: bad management\n",
      "Searching for posts mentioning: broken and 'Ubisoft'\n",
      "Finished collecting 10 posts for keyword: broken\n",
      "Searching for posts mentioning: microtransactions and 'Ubisoft'\n",
      "Finished collecting 10 posts for keyword: microtransactions\n",
      "Searching for posts mentioning: DLC and 'Ubisoft'\n",
      "Finished collecting 10 posts for keyword: DLC\n",
      "Searching for posts mentioning: pay-to-win and 'Ubisoft'\n",
      "Finished collecting 5 posts for keyword: pay-to-win\n",
      "Searching for posts mentioning: poor optimization and 'Ubisoft'\n",
      "Finished collecting 7 posts for keyword: poor optimization\n",
      "Data collection complete. Results saved to 'reddit_ubisoft_posts.csv'.\n"
     ]
    }
   ],
   "source": [
    "subreddits = ['gaming', 'assassinscreed', 'Ubisoft', 'pcgaming', 'videogames']\n",
    "\n",
    "# Combine subreddits into one subreddit instance\n",
    "subreddit = reddit.subreddit('+'.join(subreddits))\n",
    "\n",
    "# Define the keywords you want to search for\n",
    "keywords = ['toxic workplace', 'scandal', 'bad management', 'broken', 'microtransactions', 'DLC', \n",
    "            'pay-to-win', 'poor optimization']\n",
    "\n",
    "# Open a CSV file to store the results\n",
    "with open('reddit_ubisoft_posts.csv', mode='w', newline='', encoding='utf-8') as file:\n",
    "    writer = csv.writer(file)\n",
    "    # Write the header row\n",
    "    writer.writerow(['Keyword', 'Subreddit', 'Title', 'Score', 'URL', 'Author'])\n",
    "\n",
    "    # Loop over each keyword\n",
    "    for keyword in keywords:\n",
    "        print(f\"Searching for posts mentioning: {keyword} and 'Ubisoft'\")\n",
    "        count = 0  # Counter to limit the number of posts per keyword\n",
    "        for submission in subreddit.search(keyword, limit=100, sort='new'):\n",
    "            # Check if 'Ubisoft' is mentioned in the title or body of the post\n",
    "            if 'ubisoft' in submission.title.lower() or 'ubisoft' in submission.selftext.lower():\n",
    "                # Write each post's details into the CSV\n",
    "                writer.writerow([keyword, submission.subreddit.display_name, submission.title, \n",
    "                                 submission.score, submission.url, submission.author])\n",
    "                count += 1\n",
    "\n",
    "                # Break if the limit (10 posts per keyword) is reached\n",
    "                if count >= 10:\n",
    "                    break\n",
    "\n",
    "        print(f\"Finished collecting {count} posts for keyword: {keyword}\")\n",
    "\n",
    "print(\"Data collection complete. Results saved to 'reddit_ubisoft_posts.csv'.\")"
   ]
  },
  {
   "cell_type": "code",
   "execution_count": null,
   "metadata": {},
   "outputs": [],
   "source": []
  }
 ],
 "metadata": {
  "kernelspec": {
   "display_name": "base",
   "language": "python",
   "name": "python3"
  },
  "language_info": {
   "codemirror_mode": {
    "name": "ipython",
    "version": 3
   },
   "file_extension": ".py",
   "mimetype": "text/x-python",
   "name": "python",
   "nbconvert_exporter": "python",
   "pygments_lexer": "ipython3",
   "version": "3.11.8"
  }
 },
 "nbformat": 4,
 "nbformat_minor": 2
}
