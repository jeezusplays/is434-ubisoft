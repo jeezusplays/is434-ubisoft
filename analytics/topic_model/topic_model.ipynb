{
 "cells": [
  {
   "cell_type": "code",
   "execution_count": 1,
   "metadata": {},
   "outputs": [
    {
     "name": "stderr",
     "output_type": "stream",
     "text": [
      "[nltk_data] Downloading package stopwords to\n",
      "[nltk_data]     C:\\Users\\Admin\\AppData\\Roaming\\nltk_data...\n",
      "[nltk_data]   Package stopwords is already up-to-date!\n"
     ]
    }
   ],
   "source": [
    "import pandas as pd\n",
    "import re\n",
    "import string\n",
    "import nltk\n",
    "from nltk.corpus import stopwords\n",
    "from gensim import corpora, models\n",
    "import spacy\n",
    "import matplotlib.pyplot as plt\n",
    "import pyLDAvis.gensim_models as gensimvis\n",
    "import pyLDAvis\n",
    "import os\n",
    "from collections import Counter\n",
    "from gensim.models import CoherenceModel\n",
    "\n",
    "target_column = 'rawContent'\n",
    "\n",
    "# Download NLTK data\n",
    "nltk.download('stopwords')\n",
    "\n",
    "# Load data\n",
    "df = pd.read_csv(\"C:/Users/Admin/Documents/GitHub/is434-ubisoft/data-collection/twitter/data/combined.csv\")\n",
    "df = df[df[\"lang\"]==\"en\"]\n",
    "texts = df[target_column].astype(str).tolist()"
   ]
  },
  {
   "cell_type": "code",
   "execution_count": 2,
   "metadata": {},
   "outputs": [
    {
     "name": "stdout",
     "output_type": "stream",
     "text": [
      "[('thank', 13320), ('assassin', 13157), ('creed', 13076), ('play', 11454), ('please', 10893), ('new', 10576), ('like', 10376), ('make', 9849), ('one', 8454), ('good', 7521), ('issue', 7492), ('look', 6737), ('see', 6628), ('know', 6528), ('platform', 6338), ('release', 6228), ('would', 6073), ('xbox', 6045), ('time', 5961), ('hey', 5910)]\n"
     ]
    }
   ],
   "source": [
    "# Initialize spaCy\n",
    "nlp = spacy.load('en_core_web_sm')\n",
    "# Cleaning function\n",
    "def clean_text(text):\n",
    "    text = text.lower()\n",
    "    text = re.sub(r'http\\S+|www.\\S+', '', text)\n",
    "    text = re.sub(r'@\\w+|#\\w+', '', text)\n",
    "    text = re.sub(r'[%s]' % re.escape(string.punctuation), ' ', text)\n",
    "    text = re.sub(r'\\d+', '', text)\n",
    "    text = re.sub(r'\\s+', ' ', text).strip()\n",
    "    return text\n",
    "\n",
    "cleaned_texts = [clean_text(text) for text in texts]\n",
    "\n",
    "custom_stopwords = {'ubisoft', 'game', 'go', 'get', 'I'}\n",
    "stop_words = set(stopwords.words('english'))\n",
    "stop_words.update(custom_stopwords)\n",
    "# Tokenization and Lemmatization\n",
    "def tokenize_lemmatize(text):\n",
    "    doc = nlp(text)\n",
    "    return [token.lemma_ for token in doc if token.is_alpha and token.lemma_ not in stop_words]\n",
    "\n",
    "tokenized_texts = [tokenize_lemmatize(text) for text in cleaned_texts]\n",
    "\n",
    "# Assuming 'tokenized_texts' is your list of tokenized tweets\n",
    "all_words = [word for text in tokenized_texts for word in text]\n",
    "word_freq = Counter(all_words)\n",
    "print(word_freq.most_common(20))\n",
    "\n",
    "# Create Dictionary and Corpus\n",
    "dictionary = corpora.Dictionary(tokenized_texts)\n",
    "dictionary.filter_extremes(no_below=15, no_above=0.5)\n",
    "corpus = [dictionary.doc2bow(text) for text in tokenized_texts]"
   ]
  },
  {
   "cell_type": "code",
   "execution_count": 3,
   "metadata": {},
   "outputs": [
    {
     "name": "stderr",
     "output_type": "stream",
     "text": [
      "c:\\Users\\Admin\\anaconda3\\envs\\is434\\Lib\\site-packages\\tqdm\\auto.py:21: TqdmWarning: IProgress not found. Please update jupyter and ipywidgets. See https://ipywidgets.readthedocs.io/en/stable/user_install.html\n",
      "  from .autonotebook import tqdm as notebook_tqdm\n",
      "c:\\Users\\Admin\\anaconda3\\envs\\is434\\Lib\\site-packages\\umap\\__init__.py:36: DeprecationWarning: pkg_resources is deprecated as an API. See https://setuptools.pypa.io/en/latest/pkg_resources.html\n",
      "  import pkg_resources\n",
      "c:\\Users\\Admin\\anaconda3\\envs\\is434\\Lib\\site-packages\\pkg_resources\\__init__.py:3154: DeprecationWarning: Deprecated call to `pkg_resources.declare_namespace('google')`.\n",
      "Implementing implicit namespace packages (as specified in PEP 420) is preferred to `pkg_resources.declare_namespace`. See https://setuptools.pypa.io/en/latest/references/keywords.html#keyword-namespace-packages\n",
      "  declare_namespace(pkg)\n"
     ]
    }
   ],
   "source": [
    "import openai\n",
    "from bertopic import BERTopic\n",
    "from bertopic.representation import OpenAI\n",
    "import os\n",
    "from dotenv import load_dotenv\n",
    "\n",
    "load_dotenv()\n",
    "\n",
    "OPEN_AI_KEY = os.environ.get(\"OPEN_AI_KEY\")\n",
    "client = openai.OpenAI(api_key=OPEN_AI_KEY)\n",
    "representation_model = OpenAI(client, model=\"gpt-4o-mini\", chat=True)\n",
    "topic_model = BERTopic(representation_model=representation_model)\n",
    "\n",
    "topics, probabilities = topic_model.fit_transform(texts)\n",
    "\n",
    "# Explore topics\n",
    "topic_df = topic_model.get_topic_info()\n",
    "topic_df.to_csv(\"topics_info.csv\", index=False)"
   ]
  },
  {
   "cell_type": "code",
   "execution_count": 4,
   "metadata": {},
   "outputs": [],
   "source": [
    "fig = topic_model.visualize_topics()\n",
    "fig.write_html(\"bertopic_visualization.html\")"
   ]
  },
  {
   "cell_type": "code",
   "execution_count": null,
   "metadata": {},
   "outputs": [],
   "source": []
  }
 ],
 "metadata": {
  "kernelspec": {
   "display_name": "Python 3",
   "language": "python",
   "name": "python3"
  },
  "language_info": {
   "codemirror_mode": {
    "name": "ipython",
    "version": 3
   },
   "file_extension": ".py",
   "mimetype": "text/x-python",
   "name": "python",
   "nbconvert_exporter": "python",
   "pygments_lexer": "ipython3",
   "version": "3.11.10"
  }
 },
 "nbformat": 4,
 "nbformat_minor": 2
}
