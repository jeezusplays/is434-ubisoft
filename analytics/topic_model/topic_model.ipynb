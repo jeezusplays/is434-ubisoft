{
 "cells": [
  {
   "cell_type": "code",
   "execution_count": 1,
   "metadata": {},
   "outputs": [
    {
     "name": "stderr",
     "output_type": "stream",
     "text": [
      "[nltk_data] Downloading package stopwords to\n",
      "[nltk_data]     C:\\Users\\Admin\\AppData\\Roaming\\nltk_data...\n",
      "[nltk_data]   Package stopwords is already up-to-date!\n"
     ]
    }
   ],
   "source": [
    "import pandas as pd\n",
    "import re\n",
    "import string\n",
    "import nltk\n",
    "from nltk.corpus import stopwords\n",
    "from gensim import corpora, models\n",
    "import spacy\n",
    "import matplotlib.pyplot as plt\n",
    "import pyLDAvis.gensim_models as gensimvis\n",
    "import pyLDAvis\n",
    "import os\n",
    "from collections import Counter\n",
    "from gensim.models import CoherenceModel\n",
    "\n",
    "target_column = 'rawContent'\n",
    "dataset_name = \"twitter_ubisoft\"\n",
    "# Download NLTK data\n",
    "nltk.download('stopwords')\n",
    "\n",
    "# Load data\n",
    "df = pd.read_csv(\"C:/Users/Admin/Documents/GitHub/is434-ubisoft/data-collection/twitter/data/combined.csv\",encoding='iso-8859-1')\n",
    "df = df[df[\"lang\"]==\"en\"]\n",
    "texts = df[target_column].astype(str).tolist()\n"
   ]
  },
  {
   "cell_type": "code",
   "execution_count": 3,
   "metadata": {},
   "outputs": [
    {
     "name": "stdout",
     "output_type": "stream",
     "text": [
      "[('ubisoft', 81134), ('game', 42867), ('thank', 13291), ('creed', 12941), ('play', 11435), ('assassin', 11206), ('please', 10882), ('new', 10523), ('like', 10361), ('make', 9822), ('one', 8428), ('good', 7507), ('issue', 7487), ('look', 6733), ('see', 6620), ('know', 6519), ('platform', 6279), ('release', 6215), ('xbox', 6031), ('time', 5943)]\n"
     ]
    }
   ],
   "source": [
    "# Initialize spaCy\n",
    "nlp = spacy.load('en_core_web_sm')\n",
    "# Cleaning function\n",
    "def clean_text(text):\n",
    "    text = text.lower()\n",
    "    text = re.sub(r'http\\S+|www.\\S+', '', text)\n",
    "    text = re.sub(r'@\\w+|#\\w+', '', text)\n",
    "    text = re.sub(r'[%s]' % re.escape(string.punctuation), ' ', text)\n",
    "    text = re.sub(r'\\d+', '', text)\n",
    "    text = re.sub(r'\\s+', ' ', text).strip()\n",
    "    return text\n",
    "\n",
    "cleaned_texts = [clean_text(text) for text in texts]\n",
    "\n",
    "custom_stopwords = {'go', 'get', 'I'}\n",
    "stop_words = set(stopwords.words('english'))\n",
    "stop_words.update(custom_stopwords)\n",
    "# Tokenization and Lemmatization\n",
    "def tokenize_lemmatize(text):\n",
    "    doc = nlp(text)\n",
    "    return [token.lemma_ for token in doc if token.is_alpha and token.lemma_ not in stop_words]\n",
    "\n",
    "tokenized_texts = [tokenize_lemmatize(text) for text in cleaned_texts]\n",
    "\n",
    "# Assuming 'tokenized_texts' is your list of tokenized tweets\n",
    "all_words = [word for text in tokenized_texts for word in text]\n",
    "word_freq = Counter(all_words)\n",
    "print(word_freq.most_common(20))\n",
    "\n",
    "# Create Dictionary and Corpus\n",
    "dictionary = corpora.Dictionary(tokenized_texts)\n",
    "dictionary.filter_extremes(no_below=15, no_above=0.5)\n",
    "corpus = [dictionary.doc2bow(text) for text in tokenized_texts]"
   ]
  },
  {
   "cell_type": "code",
   "execution_count": 4,
   "metadata": {},
   "outputs": [
    {
     "name": "stderr",
     "output_type": "stream",
     "text": [
      "c:\\Users\\Admin\\anaconda3\\envs\\is434\\Lib\\site-packages\\tqdm\\auto.py:21: TqdmWarning: IProgress not found. Please update jupyter and ipywidgets. See https://ipywidgets.readthedocs.io/en/stable/user_install.html\n",
      "  from .autonotebook import tqdm as notebook_tqdm\n",
      "c:\\Users\\Admin\\anaconda3\\envs\\is434\\Lib\\site-packages\\umap\\__init__.py:36: DeprecationWarning: pkg_resources is deprecated as an API. See https://setuptools.pypa.io/en/latest/pkg_resources.html\n",
      "  import pkg_resources\n",
      "c:\\Users\\Admin\\anaconda3\\envs\\is434\\Lib\\site-packages\\pkg_resources\\__init__.py:3154: DeprecationWarning: Deprecated call to `pkg_resources.declare_namespace('google')`.\n",
      "Implementing implicit namespace packages (as specified in PEP 420) is preferred to `pkg_resources.declare_namespace`. See https://setuptools.pypa.io/en/latest/references/keywords.html#keyword-namespace-packages\n",
      "  declare_namespace(pkg)\n"
     ]
    }
   ],
   "source": [
    "import openai\n",
    "from bertopic import BERTopic\n",
    "from bertopic.representation import OpenAI\n",
    "from hdbscan import HDBSCAN\n",
    "import os\n",
    "from dotenv import load_dotenv\n",
    "\n",
    "load_dotenv()\n",
    "\n",
    "OPEN_AI_KEY = os.environ.get(\"OPEN_AI_KEY\")\n",
    "client = openai.OpenAI(api_key=OPEN_AI_KEY)\n",
    "representation_model = OpenAI(client, model=\"gpt-4o-mini\", chat=True)\n",
    "\n",
    "hdbscan_model = HDBSCAN(\n",
    "    min_cluster_size=130,  # Smaller clusters allowed\n",
    "    metric='euclidean',\n",
    "    cluster_selection_method='eom'  # 'eom' or 'leaf'\n",
    ")\n",
    "\n",
    "topic_model = BERTopic(\n",
    "    representation_model=representation_model,\n",
    "    hdbscan_model=hdbscan_model,\n",
    ")\n",
    "\n",
    "topics, probabilities = topic_model.fit_transform(texts)\n",
    "\n",
    "# Explore topics\n",
    "topic_df = topic_model.get_topic_info()\n",
    "topic_df.to_csv(f\"{dataset_name}_topics_info.csv\", index=False)"
   ]
  },
  {
   "cell_type": "code",
   "execution_count": 5,
   "metadata": {},
   "outputs": [],
   "source": [
    "fig = topic_model.visualize_topics()\n",
    "fig.write_html(f\"{dataset_name}_visualization.html\")"
   ]
  },
  {
   "cell_type": "code",
   "execution_count": 7,
   "metadata": {},
   "outputs": [],
   "source": [
    "topic_model.save(f\"{dataset_name}_model\", serialization=\"safetensors\", save_ctfidf=True)"
   ]
  },
  {
   "cell_type": "code",
   "execution_count": 8,
   "metadata": {},
   "outputs": [],
   "source": [
    "topics_df = topic_model.get_document_info(texts)\n",
    "topics_df.to_csv(f\"{dataset_name}_docs_info.csv\", index=False)"
   ]
  },
  {
   "cell_type": "code",
   "execution_count": 9,
   "metadata": {},
   "outputs": [],
   "source": [
    "topic_model.reduce_topics(texts, nr_topics=35)\n",
    "topic_df = topic_model.get_topic_info()\n",
    "topic_df.to_csv(f\"{dataset_name}_topics_info_35.csv\", index=False)"
   ]
  },
  {
   "cell_type": "code",
   "execution_count": 10,
   "metadata": {},
   "outputs": [],
   "source": [
    "fig = topic_model.visualize_topics()\n",
    "fig.write_html(f\"{dataset_name}_visualization_35.html\")"
   ]
  },
  {
   "cell_type": "code",
   "execution_count": 11,
   "metadata": {},
   "outputs": [],
   "source": [
    "topics_df2 = topic_model.get_document_info(texts)\n",
    "topics_df2.to_csv(f\"{dataset_name}_docs_info_35.csv\", index=False)"
   ]
  },
  {
   "cell_type": "code",
   "execution_count": null,
   "metadata": {},
   "outputs": [],
   "source": []
  }
 ],
 "metadata": {
  "kernelspec": {
   "display_name": "Python 3",
   "language": "python",
   "name": "python3"
  },
  "language_info": {
   "codemirror_mode": {
    "name": "ipython",
    "version": 3
   },
   "file_extension": ".py",
   "mimetype": "text/x-python",
   "name": "python",
   "nbconvert_exporter": "python",
   "pygments_lexer": "ipython3",
   "version": "3.11.10"
  }
 },
 "nbformat": 4,
 "nbformat_minor": 2
}
