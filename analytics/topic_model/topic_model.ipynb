{
 "cells": [
  {
   "cell_type": "code",
   "execution_count": 29,
   "metadata": {},
   "outputs": [
    {
     "name": "stderr",
     "output_type": "stream",
     "text": [
      "[nltk_data] Downloading package stopwords to\n",
      "[nltk_data]     C:\\Users\\Admin\\AppData\\Roaming\\nltk_data...\n",
      "[nltk_data]   Package stopwords is already up-to-date!\n"
     ]
    }
   ],
   "source": [
    "import pandas as pd\n",
    "import re\n",
    "import string\n",
    "import nltk\n",
    "from nltk.corpus import stopwords\n",
    "from gensim import corpora, models\n",
    "import spacy\n",
    "import matplotlib.pyplot as plt\n",
    "import pyLDAvis.gensim_models as gensimvis\n",
    "import pyLDAvis\n",
    "import os\n",
    "from collections import Counter\n",
    "from gensim.models import CoherenceModel\n",
    "\n",
    "target_column = 'Pros'\n",
    "\n",
    "# Download NLTK data\n",
    "nltk.download('stopwords')\n",
    "\n",
    "# Load data\n",
    "df = pd.read_csv(\"ubisoft_reviews.csv\",encoding='iso-8859-1')\n",
    "texts = df[target_column].astype(str).tolist()"
   ]
  },
  {
   "cell_type": "code",
   "execution_count": 30,
   "metadata": {},
   "outputs": [
    {
     "name": "stdout",
     "output_type": "stream",
     "text": [
      "[('work', 605), ('good', 502), ('great', 295), ('people', 241), ('life', 184), ('balance', 177), ('environment', 164), ('team', 138), ('company', 133), ('culture', 131), ('nice', 110), ('project', 104), ('benefit', 97), ('lot', 93), ('friendly', 90), ('place', 73), ('fun', 71), ('opportunity', 71), ('learn', 68), ('studio', 60)]\n"
     ]
    }
   ],
   "source": [
    "# Initialize spaCy\n",
    "nlp = spacy.load('en_core_web_sm')\n",
    "# Cleaning function\n",
    "def clean_text(text):\n",
    "    text = text.lower()\n",
    "    text = re.sub(r'http\\S+|www.\\S+', '', text)\n",
    "    text = re.sub(r'@\\w+|#\\w+', '', text)\n",
    "    text = re.sub(r'[%s]' % re.escape(string.punctuation), ' ', text)\n",
    "    text = re.sub(r'\\d+', '', text)\n",
    "    text = re.sub(r'\\s+', ' ', text).strip()\n",
    "    return text\n",
    "\n",
    "cleaned_texts = [clean_text(text) for text in texts]\n",
    "\n",
    "custom_stopwords = {'ubisoft', 'game', 'go', 'get', 'I'}\n",
    "stop_words = set(stopwords.words('english'))\n",
    "stop_words.update(custom_stopwords)\n",
    "# Tokenization and Lemmatization\n",
    "def tokenize_lemmatize(text):\n",
    "    doc = nlp(text)\n",
    "    return [token.lemma_ for token in doc if token.is_alpha and token.lemma_ not in stop_words]\n",
    "\n",
    "tokenized_texts = [tokenize_lemmatize(text) for text in cleaned_texts]\n",
    "\n",
    "# Assuming 'tokenized_texts' is your list of tokenized tweets\n",
    "all_words = [word for text in tokenized_texts for word in text]\n",
    "word_freq = Counter(all_words)\n",
    "print(word_freq.most_common(20))\n",
    "\n",
    "# Create Dictionary and Corpus\n",
    "dictionary = corpora.Dictionary(tokenized_texts)\n",
    "dictionary.filter_extremes(no_below=15, no_above=0.5)\n",
    "corpus = [dictionary.doc2bow(text) for text in tokenized_texts]"
   ]
  },
  {
   "cell_type": "code",
   "execution_count": 31,
   "metadata": {},
   "outputs": [],
   "source": [
    "import openai\n",
    "from bertopic import BERTopic\n",
    "from bertopic.representation import OpenAI\n",
    "from hdbscan import HDBSCAN\n",
    "import os\n",
    "from dotenv import load_dotenv\n",
    "\n",
    "load_dotenv()\n",
    "\n",
    "OPEN_AI_KEY = os.environ.get(\"OPEN_AI_KEY\")\n",
    "client = openai.OpenAI(api_key=OPEN_AI_KEY)\n",
    "representation_model = OpenAI(client, model=\"gpt-4o-mini\", chat=True)\n",
    "\n",
    "hdbscan_model = HDBSCAN(\n",
    "    min_cluster_size=5,  # Smaller clusters allowed\n",
    "    metric='euclidean',\n",
    "    cluster_selection_method='leaf'  # 'eom' or 'leaf'\n",
    ")\n",
    "\n",
    "topic_model = BERTopic(\n",
    "    representation_model=representation_model,\n",
    "    # hdbscan_model=hdbscan_model,\n",
    ")\n",
    "\n",
    "topics, probabilities = topic_model.fit_transform(texts)\n",
    "\n",
    "# Explore topics\n",
    "topic_df = topic_model.get_topic_info()\n",
    "topic_df.to_csv(\"glassdoor_ubisoft_pros_topics_info.csv\", index=False)"
   ]
  },
  {
   "cell_type": "code",
   "execution_count": 32,
   "metadata": {},
   "outputs": [],
   "source": [
    "fig = topic_model.visualize_topics()\n",
    "fig.write_html(\"glassdoor_ubisoft_pros_bertopic_visualization.html\")"
   ]
  },
  {
   "cell_type": "code",
   "execution_count": null,
   "metadata": {},
   "outputs": [],
   "source": []
  }
 ],
 "metadata": {
  "kernelspec": {
   "display_name": "Python 3",
   "language": "python",
   "name": "python3"
  },
  "language_info": {
   "codemirror_mode": {
    "name": "ipython",
    "version": 3
   },
   "file_extension": ".py",
   "mimetype": "text/x-python",
   "name": "python",
   "nbconvert_exporter": "python",
   "pygments_lexer": "ipython3",
   "version": "3.11.10"
  }
 },
 "nbformat": 4,
 "nbformat_minor": 2
}
